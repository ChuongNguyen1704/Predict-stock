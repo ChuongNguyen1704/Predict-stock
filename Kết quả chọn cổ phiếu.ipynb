{
    "metadata": {
        "kernelspec": {
            "name": "python3",
            "display_name": "Python 3",
            "language": "python"
        },
        "language_info": {
            "name": "python",
            "version": "3.8.10",
            "mimetype": "text/x-python",
            "codemirror_mode": {
                "name": "ipython",
                "version": 3
            },
            "pygments_lexer": "ipython3",
            "nbconvert_exporter": "python",
            "file_extension": ".py"
        }
    },
    "nbformat_minor": 2,
    "nbformat": 4,
    "cells": [
        {
            "cell_type": "code",
            "source": [
                "import pandas as pd\r\n",
                "import numpy as np"
            ],
            "metadata": {
                "azdata_cell_guid": "99ba7b51-2406-4e49-911d-80adc8d73259"
            },
            "outputs": [],
            "execution_count": 1
        },
        {
            "cell_type": "code",
            "source": [
                "ListStock =  pd.read_csv(r'C:\\Users\\Admin\\Desktop\\K_Means\\ListStock.csv')\r\n",
                "ListStock\r\n",
                ""
            ],
            "metadata": {
                "azdata_cell_guid": "1f19f91d-af9e-4b4d-b707-abd0d7219ea8"
            },
            "outputs": [
                {
                    "output_type": "execute_result",
                    "execution_count": 24,
                    "data": {
                        "text/plain": "   MaCoPhieu SanChungKhoan  LoiNhuanRong_2021  LoiNhuanRong_2020   KeHoach  \\\n0        VND          HOSE        2382.923585             692.77    880.00   \n1        DGC          HOSE        2388.150971             906.67   1100.00   \n2        HPG          HOSE       34478.143197           13450.30  18000.00   \n3        VCS           HNX        1772.059864            1428.42   1439.25   \n4        HDG          HOSE        1090.016437             979.14   1254.00   \n5        VCB          HOSE       21908.052000           18451.31  37500.00   \n6        REE          HOSE        1854.653140            1628.08   1768.90   \n7        VHM          HOSE       39016.681000           27351.28  35000.00   \n8        DBC          HOSE         829.557934            1400.30    827.00   \n9        VHC          HOSE        1101.225562             719.31    700.00   \n10       TCB          HOSE       18037.685000           12324.99  29700.00   \n11       DPM          HOSE        3116.702431             691.31    365.00   \n12       VCI          HOSE        1498.718375             768.91    937.50   \n13       SHS           HNX        1396.285501             754.31    563.40   \n\n    PhanTram_KeHoach      EPS    PE  \n0              271.0   7683.0  10.0  \n1              217.0  14628.0  12.1  \n2              192.0   8636.0   5.8  \n3              123.0  11262.0   9.4  \n4               87.0   6836.0  10.6  \n5               58.0   5907.0  14.4  \n6              105.0   6001.0  12.5  \n7              111.0  10845.0   7.2  \n8              100.0   7503.0  10.4  \n9              157.0   6052.0  13.3  \n10              61.0   5144.0   9.7  \n11             854.0   7964.0   7.6  \n12             160.0   5860.0  10.8  \n13             248.0   6100.0   7.3  ",
                        "text/html": "<div>\n<style scoped>\n    .dataframe tbody tr th:only-of-type {\n        vertical-align: middle;\n    }\n\n    .dataframe tbody tr th {\n        vertical-align: top;\n    }\n\n    .dataframe thead th {\n        text-align: right;\n    }\n</style>\n<table border=\"1\" class=\"dataframe\">\n  <thead>\n    <tr style=\"text-align: right;\">\n      <th></th>\n      <th>MaCoPhieu</th>\n      <th>SanChungKhoan</th>\n      <th>LoiNhuanRong_2021</th>\n      <th>LoiNhuanRong_2020</th>\n      <th>KeHoach</th>\n      <th>PhanTram_KeHoach</th>\n      <th>EPS</th>\n      <th>PE</th>\n    </tr>\n  </thead>\n  <tbody>\n    <tr>\n      <th>0</th>\n      <td>VND</td>\n      <td>HOSE</td>\n      <td>2382.923585</td>\n      <td>692.77</td>\n      <td>880.00</td>\n      <td>271.0</td>\n      <td>7683.0</td>\n      <td>10.0</td>\n    </tr>\n    <tr>\n      <th>1</th>\n      <td>DGC</td>\n      <td>HOSE</td>\n      <td>2388.150971</td>\n      <td>906.67</td>\n      <td>1100.00</td>\n      <td>217.0</td>\n      <td>14628.0</td>\n      <td>12.1</td>\n    </tr>\n    <tr>\n      <th>2</th>\n      <td>HPG</td>\n      <td>HOSE</td>\n      <td>34478.143197</td>\n      <td>13450.30</td>\n      <td>18000.00</td>\n      <td>192.0</td>\n      <td>8636.0</td>\n      <td>5.8</td>\n    </tr>\n    <tr>\n      <th>3</th>\n      <td>VCS</td>\n      <td>HNX</td>\n      <td>1772.059864</td>\n      <td>1428.42</td>\n      <td>1439.25</td>\n      <td>123.0</td>\n      <td>11262.0</td>\n      <td>9.4</td>\n    </tr>\n    <tr>\n      <th>4</th>\n      <td>HDG</td>\n      <td>HOSE</td>\n      <td>1090.016437</td>\n      <td>979.14</td>\n      <td>1254.00</td>\n      <td>87.0</td>\n      <td>6836.0</td>\n      <td>10.6</td>\n    </tr>\n    <tr>\n      <th>5</th>\n      <td>VCB</td>\n      <td>HOSE</td>\n      <td>21908.052000</td>\n      <td>18451.31</td>\n      <td>37500.00</td>\n      <td>58.0</td>\n      <td>5907.0</td>\n      <td>14.4</td>\n    </tr>\n    <tr>\n      <th>6</th>\n      <td>REE</td>\n      <td>HOSE</td>\n      <td>1854.653140</td>\n      <td>1628.08</td>\n      <td>1768.90</td>\n      <td>105.0</td>\n      <td>6001.0</td>\n      <td>12.5</td>\n    </tr>\n    <tr>\n      <th>7</th>\n      <td>VHM</td>\n      <td>HOSE</td>\n      <td>39016.681000</td>\n      <td>27351.28</td>\n      <td>35000.00</td>\n      <td>111.0</td>\n      <td>10845.0</td>\n      <td>7.2</td>\n    </tr>\n    <tr>\n      <th>8</th>\n      <td>DBC</td>\n      <td>HOSE</td>\n      <td>829.557934</td>\n      <td>1400.30</td>\n      <td>827.00</td>\n      <td>100.0</td>\n      <td>7503.0</td>\n      <td>10.4</td>\n    </tr>\n    <tr>\n      <th>9</th>\n      <td>VHC</td>\n      <td>HOSE</td>\n      <td>1101.225562</td>\n      <td>719.31</td>\n      <td>700.00</td>\n      <td>157.0</td>\n      <td>6052.0</td>\n      <td>13.3</td>\n    </tr>\n    <tr>\n      <th>10</th>\n      <td>TCB</td>\n      <td>HOSE</td>\n      <td>18037.685000</td>\n      <td>12324.99</td>\n      <td>29700.00</td>\n      <td>61.0</td>\n      <td>5144.0</td>\n      <td>9.7</td>\n    </tr>\n    <tr>\n      <th>11</th>\n      <td>DPM</td>\n      <td>HOSE</td>\n      <td>3116.702431</td>\n      <td>691.31</td>\n      <td>365.00</td>\n      <td>854.0</td>\n      <td>7964.0</td>\n      <td>7.6</td>\n    </tr>\n    <tr>\n      <th>12</th>\n      <td>VCI</td>\n      <td>HOSE</td>\n      <td>1498.718375</td>\n      <td>768.91</td>\n      <td>937.50</td>\n      <td>160.0</td>\n      <td>5860.0</td>\n      <td>10.8</td>\n    </tr>\n    <tr>\n      <th>13</th>\n      <td>SHS</td>\n      <td>HNX</td>\n      <td>1396.285501</td>\n      <td>754.31</td>\n      <td>563.40</td>\n      <td>248.0</td>\n      <td>6100.0</td>\n      <td>7.3</td>\n    </tr>\n  </tbody>\n</table>\n</div>"
                    },
                    "metadata": {}
                }
            ],
            "execution_count": 24
        },
        {
            "cell_type": "markdown",
            "source": [
                "<br>\r\n",
                "\r\n",
                "### **<p style=\"background-color:white;font-family:tahoma;color:navy;font-size:120%;text-align:left\">Theo PE và EPS</p>**"
            ],
            "metadata": {
                "azdata_cell_guid": "0020f514-6275-4202-9cf9-296d7ea055ac"
            },
            "attachments": {}
        },
        {
            "cell_type": "markdown",
            "source": [
                "<a id = \"3\"></a>\r\n",
                "# <p style=\"background-color:navy;font-family:Tahoma;color:ivory;font-size:150%;text-align:center;border-radius:10px 0px;\">Cluster 0</p>"
            ],
            "metadata": {
                "azdata_cell_guid": "cb2bb1a8-3396-4602-a1b1-08970fd513b3"
            },
            "attachments": {}
        },
        {
            "cell_type": "code",
            "source": [
                "PE_cluster_0 =  pd.read_csv(r'C:\\Users\\Admin\\Desktop\\K_Means\\PE\\cluster_0.csv')\r\n",
                "PE_cluster_0"
            ],
            "metadata": {
                "azdata_cell_guid": "ec40aaf2-3bb7-457f-9873-af8b8bf6d6ec"
            },
            "outputs": [
                {
                    "output_type": "execute_result",
                    "execution_count": 25,
                    "data": {
                        "text/plain": "   MaCoPhieu    PE      EPS\n0         13  10.0   7683.0\n1         10   9.4  11262.0\n2          6   7.3   6100.0",
                        "text/html": "<div>\n<style scoped>\n    .dataframe tbody tr th:only-of-type {\n        vertical-align: middle;\n    }\n\n    .dataframe tbody tr th {\n        vertical-align: top;\n    }\n\n    .dataframe thead th {\n        text-align: right;\n    }\n</style>\n<table border=\"1\" class=\"dataframe\">\n  <thead>\n    <tr style=\"text-align: right;\">\n      <th></th>\n      <th>MaCoPhieu</th>\n      <th>PE</th>\n      <th>EPS</th>\n    </tr>\n  </thead>\n  <tbody>\n    <tr>\n      <th>0</th>\n      <td>13</td>\n      <td>10.0</td>\n      <td>7683.0</td>\n    </tr>\n    <tr>\n      <th>1</th>\n      <td>10</td>\n      <td>9.4</td>\n      <td>11262.0</td>\n    </tr>\n    <tr>\n      <th>2</th>\n      <td>6</td>\n      <td>7.3</td>\n      <td>6100.0</td>\n    </tr>\n  </tbody>\n</table>\n</div>"
                    },
                    "metadata": {}
                }
            ],
            "execution_count": 25
        },
        {
            "cell_type": "code",
            "source": [
                "ListStock_0 = pd.merge(ListStock, PE_cluster_0, \r\n",
                "                   on=['PE', 'EPS'], \r\n",
                "                   how='inner')\r\n",
                "ListStock_0"
            ],
            "metadata": {
                "azdata_cell_guid": "502e38c8-6bf3-43bc-b0d2-142d20bd5f77"
            },
            "outputs": [
                {
                    "output_type": "execute_result",
                    "execution_count": 26,
                    "data": {
                        "text/plain": "  MaCoPhieu_x SanChungKhoan  LoiNhuanRong_2021  LoiNhuanRong_2020  KeHoach  \\\n0         VND          HOSE        2382.923585             692.77   880.00   \n1         VCS           HNX        1772.059864            1428.42  1439.25   \n2         SHS           HNX        1396.285501             754.31   563.40   \n\n   PhanTram_KeHoach      EPS    PE  MaCoPhieu_y  \n0             271.0   7683.0  10.0           13  \n1             123.0  11262.0   9.4           10  \n2             248.0   6100.0   7.3            6  ",
                        "text/html": "<div>\n<style scoped>\n    .dataframe tbody tr th:only-of-type {\n        vertical-align: middle;\n    }\n\n    .dataframe tbody tr th {\n        vertical-align: top;\n    }\n\n    .dataframe thead th {\n        text-align: right;\n    }\n</style>\n<table border=\"1\" class=\"dataframe\">\n  <thead>\n    <tr style=\"text-align: right;\">\n      <th></th>\n      <th>MaCoPhieu_x</th>\n      <th>SanChungKhoan</th>\n      <th>LoiNhuanRong_2021</th>\n      <th>LoiNhuanRong_2020</th>\n      <th>KeHoach</th>\n      <th>PhanTram_KeHoach</th>\n      <th>EPS</th>\n      <th>PE</th>\n      <th>MaCoPhieu_y</th>\n    </tr>\n  </thead>\n  <tbody>\n    <tr>\n      <th>0</th>\n      <td>VND</td>\n      <td>HOSE</td>\n      <td>2382.923585</td>\n      <td>692.77</td>\n      <td>880.00</td>\n      <td>271.0</td>\n      <td>7683.0</td>\n      <td>10.0</td>\n      <td>13</td>\n    </tr>\n    <tr>\n      <th>1</th>\n      <td>VCS</td>\n      <td>HNX</td>\n      <td>1772.059864</td>\n      <td>1428.42</td>\n      <td>1439.25</td>\n      <td>123.0</td>\n      <td>11262.0</td>\n      <td>9.4</td>\n      <td>10</td>\n    </tr>\n    <tr>\n      <th>2</th>\n      <td>SHS</td>\n      <td>HNX</td>\n      <td>1396.285501</td>\n      <td>754.31</td>\n      <td>563.40</td>\n      <td>248.0</td>\n      <td>6100.0</td>\n      <td>7.3</td>\n      <td>6</td>\n    </tr>\n  </tbody>\n</table>\n</div>"
                    },
                    "metadata": {}
                }
            ],
            "execution_count": 26
        },
        {
            "cell_type": "code",
            "source": [
                " ListStock_0 =  ListStock_0.drop(columns=['MaCoPhieu_y'])\r\n",
                " ListStock_0"
            ],
            "metadata": {
                "azdata_cell_guid": "7027fe1e-1f72-45fe-8092-96f14d7c8f67"
            },
            "outputs": [
                {
                    "output_type": "execute_result",
                    "execution_count": 27,
                    "data": {
                        "text/plain": "  MaCoPhieu_x SanChungKhoan  LoiNhuanRong_2021  LoiNhuanRong_2020  KeHoach  \\\n0         VND          HOSE        2382.923585             692.77   880.00   \n1         VCS           HNX        1772.059864            1428.42  1439.25   \n2         SHS           HNX        1396.285501             754.31   563.40   \n\n   PhanTram_KeHoach      EPS    PE  \n0             271.0   7683.0  10.0  \n1             123.0  11262.0   9.4  \n2             248.0   6100.0   7.3  ",
                        "text/html": "<div>\n<style scoped>\n    .dataframe tbody tr th:only-of-type {\n        vertical-align: middle;\n    }\n\n    .dataframe tbody tr th {\n        vertical-align: top;\n    }\n\n    .dataframe thead th {\n        text-align: right;\n    }\n</style>\n<table border=\"1\" class=\"dataframe\">\n  <thead>\n    <tr style=\"text-align: right;\">\n      <th></th>\n      <th>MaCoPhieu_x</th>\n      <th>SanChungKhoan</th>\n      <th>LoiNhuanRong_2021</th>\n      <th>LoiNhuanRong_2020</th>\n      <th>KeHoach</th>\n      <th>PhanTram_KeHoach</th>\n      <th>EPS</th>\n      <th>PE</th>\n    </tr>\n  </thead>\n  <tbody>\n    <tr>\n      <th>0</th>\n      <td>VND</td>\n      <td>HOSE</td>\n      <td>2382.923585</td>\n      <td>692.77</td>\n      <td>880.00</td>\n      <td>271.0</td>\n      <td>7683.0</td>\n      <td>10.0</td>\n    </tr>\n    <tr>\n      <th>1</th>\n      <td>VCS</td>\n      <td>HNX</td>\n      <td>1772.059864</td>\n      <td>1428.42</td>\n      <td>1439.25</td>\n      <td>123.0</td>\n      <td>11262.0</td>\n      <td>9.4</td>\n    </tr>\n    <tr>\n      <th>2</th>\n      <td>SHS</td>\n      <td>HNX</td>\n      <td>1396.285501</td>\n      <td>754.31</td>\n      <td>563.40</td>\n      <td>248.0</td>\n      <td>6100.0</td>\n      <td>7.3</td>\n    </tr>\n  </tbody>\n</table>\n</div>"
                    },
                    "metadata": {}
                }
            ],
            "execution_count": 27
        },
        {
            "cell_type": "code",
            "source": [
                "ListStock_0.rename(columns = {'MaCoPhieu_x':'MaCoPhieu'}, inplace = True)"
            ],
            "metadata": {
                "azdata_cell_guid": "138eb2d3-1c92-4234-8355-ae43bbb62f70"
            },
            "outputs": [],
            "execution_count": 28
        },
        {
            "cell_type": "code",
            "source": [
                "ListStock_0"
            ],
            "metadata": {
                "azdata_cell_guid": "b16a8440-cf01-4ef3-9936-f869a7f16e01"
            },
            "outputs": [
                {
                    "output_type": "execute_result",
                    "execution_count": 29,
                    "data": {
                        "text/plain": "  MaCoPhieu SanChungKhoan  LoiNhuanRong_2021  LoiNhuanRong_2020  KeHoach  \\\n0       VND          HOSE        2382.923585             692.77   880.00   \n1       VCS           HNX        1772.059864            1428.42  1439.25   \n2       SHS           HNX        1396.285501             754.31   563.40   \n\n   PhanTram_KeHoach      EPS    PE  \n0             271.0   7683.0  10.0  \n1             123.0  11262.0   9.4  \n2             248.0   6100.0   7.3  ",
                        "text/html": "<div>\n<style scoped>\n    .dataframe tbody tr th:only-of-type {\n        vertical-align: middle;\n    }\n\n    .dataframe tbody tr th {\n        vertical-align: top;\n    }\n\n    .dataframe thead th {\n        text-align: right;\n    }\n</style>\n<table border=\"1\" class=\"dataframe\">\n  <thead>\n    <tr style=\"text-align: right;\">\n      <th></th>\n      <th>MaCoPhieu</th>\n      <th>SanChungKhoan</th>\n      <th>LoiNhuanRong_2021</th>\n      <th>LoiNhuanRong_2020</th>\n      <th>KeHoach</th>\n      <th>PhanTram_KeHoach</th>\n      <th>EPS</th>\n      <th>PE</th>\n    </tr>\n  </thead>\n  <tbody>\n    <tr>\n      <th>0</th>\n      <td>VND</td>\n      <td>HOSE</td>\n      <td>2382.923585</td>\n      <td>692.77</td>\n      <td>880.00</td>\n      <td>271.0</td>\n      <td>7683.0</td>\n      <td>10.0</td>\n    </tr>\n    <tr>\n      <th>1</th>\n      <td>VCS</td>\n      <td>HNX</td>\n      <td>1772.059864</td>\n      <td>1428.42</td>\n      <td>1439.25</td>\n      <td>123.0</td>\n      <td>11262.0</td>\n      <td>9.4</td>\n    </tr>\n    <tr>\n      <th>2</th>\n      <td>SHS</td>\n      <td>HNX</td>\n      <td>1396.285501</td>\n      <td>754.31</td>\n      <td>563.40</td>\n      <td>248.0</td>\n      <td>6100.0</td>\n      <td>7.3</td>\n    </tr>\n  </tbody>\n</table>\n</div>"
                    },
                    "metadata": {}
                }
            ],
            "execution_count": 29
        },
        {
            "cell_type": "code",
            "source": [
                "ListStock_0.mean()"
            ],
            "metadata": {
                "azdata_cell_guid": "80cdc1b2-ef97-4312-80e5-72adc843c119"
            },
            "outputs": [
                {
                    "output_type": "stream",
                    "name": "stderr",
                    "text": "<ipython-input-57-b693dde32443>:1: FutureWarning: Dropping of nuisance columns in DataFrame reductions (with 'numeric_only=None') is deprecated; in a future version this will raise TypeError.  Select only valid columns before calling the reduction.\n  ListStock_0.mean()\n"
                },
                {
                    "output_type": "execute_result",
                    "execution_count": 57,
                    "data": {
                        "text/plain": "LoiNhuanRong_2021    1850.422983\nLoiNhuanRong_2020     958.500000\nKeHoach               960.883333\nPhanTram_KeHoach      214.000000\nEPS                  8348.333333\nPE                      8.900000\ndtype: float64"
                    },
                    "metadata": {}
                }
            ],
            "execution_count": 57
        },
        {
            "cell_type": "markdown",
            "source": [
                "<a id = \"3\"></a>\r\n",
                "# <p style=\"background-color:navy;font-family:Tahoma;color:ivory;font-size:150%;text-align:center;border-radius:10px 0px;\">Cluster 1</p>"
            ],
            "metadata": {
                "azdata_cell_guid": "5fbac0dd-6e89-442a-8b95-abfcf70a9daa"
            },
            "attachments": {}
        },
        {
            "cell_type": "code",
            "source": [
                "PE_cluster_1 =  pd.read_csv(r'C:\\Users\\Admin\\Desktop\\K_Means\\PE\\cluster_1.csv')\r\n",
                "PE_cluster_1"
            ],
            "metadata": {
                "azdata_cell_guid": "1e3ca1b1-bbcf-497d-965d-95d726ec507e"
            },
            "outputs": [
                {
                    "output_type": "execute_result",
                    "execution_count": 30,
                    "data": {
                        "text/plain": "   MaCoPhieu    PE     EPS\n0          3  10.6  6836.0\n1          5  12.5  6001.0\n2          0  10.4  7503.0\n3         11  13.3  6052.0\n4          9  10.8  5860.0",
                        "text/html": "<div>\n<style scoped>\n    .dataframe tbody tr th:only-of-type {\n        vertical-align: middle;\n    }\n\n    .dataframe tbody tr th {\n        vertical-align: top;\n    }\n\n    .dataframe thead th {\n        text-align: right;\n    }\n</style>\n<table border=\"1\" class=\"dataframe\">\n  <thead>\n    <tr style=\"text-align: right;\">\n      <th></th>\n      <th>MaCoPhieu</th>\n      <th>PE</th>\n      <th>EPS</th>\n    </tr>\n  </thead>\n  <tbody>\n    <tr>\n      <th>0</th>\n      <td>3</td>\n      <td>10.6</td>\n      <td>6836.0</td>\n    </tr>\n    <tr>\n      <th>1</th>\n      <td>5</td>\n      <td>12.5</td>\n      <td>6001.0</td>\n    </tr>\n    <tr>\n      <th>2</th>\n      <td>0</td>\n      <td>10.4</td>\n      <td>7503.0</td>\n    </tr>\n    <tr>\n      <th>3</th>\n      <td>11</td>\n      <td>13.3</td>\n      <td>6052.0</td>\n    </tr>\n    <tr>\n      <th>4</th>\n      <td>9</td>\n      <td>10.8</td>\n      <td>5860.0</td>\n    </tr>\n  </tbody>\n</table>\n</div>"
                    },
                    "metadata": {}
                }
            ],
            "execution_count": 30
        },
        {
            "cell_type": "code",
            "source": [
                "ListStock_1 = pd.merge(ListStock, PE_cluster_1, \r\n",
                "                   on=['PE', 'EPS'], \r\n",
                "                   how='inner')\r\n",
                "ListStock_1"
            ],
            "metadata": {
                "azdata_cell_guid": "c7bf5c26-2e13-4103-9900-2d9b7db7540d"
            },
            "outputs": [
                {
                    "output_type": "execute_result",
                    "execution_count": 31,
                    "data": {
                        "text/plain": "  MaCoPhieu_x SanChungKhoan  LoiNhuanRong_2021  LoiNhuanRong_2020  KeHoach  \\\n0         HDG          HOSE        1090.016437             979.14   1254.0   \n1         REE          HOSE        1854.653140            1628.08   1768.9   \n2         DBC          HOSE         829.557934            1400.30    827.0   \n3         VHC          HOSE        1101.225562             719.31    700.0   \n4         VCI          HOSE        1498.718375             768.91    937.5   \n\n   PhanTram_KeHoach     EPS    PE  MaCoPhieu_y  \n0              87.0  6836.0  10.6            3  \n1             105.0  6001.0  12.5            5  \n2             100.0  7503.0  10.4            0  \n3             157.0  6052.0  13.3           11  \n4             160.0  5860.0  10.8            9  ",
                        "text/html": "<div>\n<style scoped>\n    .dataframe tbody tr th:only-of-type {\n        vertical-align: middle;\n    }\n\n    .dataframe tbody tr th {\n        vertical-align: top;\n    }\n\n    .dataframe thead th {\n        text-align: right;\n    }\n</style>\n<table border=\"1\" class=\"dataframe\">\n  <thead>\n    <tr style=\"text-align: right;\">\n      <th></th>\n      <th>MaCoPhieu_x</th>\n      <th>SanChungKhoan</th>\n      <th>LoiNhuanRong_2021</th>\n      <th>LoiNhuanRong_2020</th>\n      <th>KeHoach</th>\n      <th>PhanTram_KeHoach</th>\n      <th>EPS</th>\n      <th>PE</th>\n      <th>MaCoPhieu_y</th>\n    </tr>\n  </thead>\n  <tbody>\n    <tr>\n      <th>0</th>\n      <td>HDG</td>\n      <td>HOSE</td>\n      <td>1090.016437</td>\n      <td>979.14</td>\n      <td>1254.0</td>\n      <td>87.0</td>\n      <td>6836.0</td>\n      <td>10.6</td>\n      <td>3</td>\n    </tr>\n    <tr>\n      <th>1</th>\n      <td>REE</td>\n      <td>HOSE</td>\n      <td>1854.653140</td>\n      <td>1628.08</td>\n      <td>1768.9</td>\n      <td>105.0</td>\n      <td>6001.0</td>\n      <td>12.5</td>\n      <td>5</td>\n    </tr>\n    <tr>\n      <th>2</th>\n      <td>DBC</td>\n      <td>HOSE</td>\n      <td>829.557934</td>\n      <td>1400.30</td>\n      <td>827.0</td>\n      <td>100.0</td>\n      <td>7503.0</td>\n      <td>10.4</td>\n      <td>0</td>\n    </tr>\n    <tr>\n      <th>3</th>\n      <td>VHC</td>\n      <td>HOSE</td>\n      <td>1101.225562</td>\n      <td>719.31</td>\n      <td>700.0</td>\n      <td>157.0</td>\n      <td>6052.0</td>\n      <td>13.3</td>\n      <td>11</td>\n    </tr>\n    <tr>\n      <th>4</th>\n      <td>VCI</td>\n      <td>HOSE</td>\n      <td>1498.718375</td>\n      <td>768.91</td>\n      <td>937.5</td>\n      <td>160.0</td>\n      <td>5860.0</td>\n      <td>10.8</td>\n      <td>9</td>\n    </tr>\n  </tbody>\n</table>\n</div>"
                    },
                    "metadata": {}
                }
            ],
            "execution_count": 31
        },
        {
            "cell_type": "code",
            "source": [
                " ListStock_1 =  ListStock_1.drop(columns=['MaCoPhieu_y'])\r\n",
                " ListStock_1"
            ],
            "metadata": {
                "azdata_cell_guid": "d3a9a8b8-1471-4b08-a327-7962ea424ca1"
            },
            "outputs": [
                {
                    "output_type": "execute_result",
                    "execution_count": 32,
                    "data": {
                        "text/plain": "  MaCoPhieu_x SanChungKhoan  LoiNhuanRong_2021  LoiNhuanRong_2020  KeHoach  \\\n0         HDG          HOSE        1090.016437             979.14   1254.0   \n1         REE          HOSE        1854.653140            1628.08   1768.9   \n2         DBC          HOSE         829.557934            1400.30    827.0   \n3         VHC          HOSE        1101.225562             719.31    700.0   \n4         VCI          HOSE        1498.718375             768.91    937.5   \n\n   PhanTram_KeHoach     EPS    PE  \n0              87.0  6836.0  10.6  \n1             105.0  6001.0  12.5  \n2             100.0  7503.0  10.4  \n3             157.0  6052.0  13.3  \n4             160.0  5860.0  10.8  ",
                        "text/html": "<div>\n<style scoped>\n    .dataframe tbody tr th:only-of-type {\n        vertical-align: middle;\n    }\n\n    .dataframe tbody tr th {\n        vertical-align: top;\n    }\n\n    .dataframe thead th {\n        text-align: right;\n    }\n</style>\n<table border=\"1\" class=\"dataframe\">\n  <thead>\n    <tr style=\"text-align: right;\">\n      <th></th>\n      <th>MaCoPhieu_x</th>\n      <th>SanChungKhoan</th>\n      <th>LoiNhuanRong_2021</th>\n      <th>LoiNhuanRong_2020</th>\n      <th>KeHoach</th>\n      <th>PhanTram_KeHoach</th>\n      <th>EPS</th>\n      <th>PE</th>\n    </tr>\n  </thead>\n  <tbody>\n    <tr>\n      <th>0</th>\n      <td>HDG</td>\n      <td>HOSE</td>\n      <td>1090.016437</td>\n      <td>979.14</td>\n      <td>1254.0</td>\n      <td>87.0</td>\n      <td>6836.0</td>\n      <td>10.6</td>\n    </tr>\n    <tr>\n      <th>1</th>\n      <td>REE</td>\n      <td>HOSE</td>\n      <td>1854.653140</td>\n      <td>1628.08</td>\n      <td>1768.9</td>\n      <td>105.0</td>\n      <td>6001.0</td>\n      <td>12.5</td>\n    </tr>\n    <tr>\n      <th>2</th>\n      <td>DBC</td>\n      <td>HOSE</td>\n      <td>829.557934</td>\n      <td>1400.30</td>\n      <td>827.0</td>\n      <td>100.0</td>\n      <td>7503.0</td>\n      <td>10.4</td>\n    </tr>\n    <tr>\n      <th>3</th>\n      <td>VHC</td>\n      <td>HOSE</td>\n      <td>1101.225562</td>\n      <td>719.31</td>\n      <td>700.0</td>\n      <td>157.0</td>\n      <td>6052.0</td>\n      <td>13.3</td>\n    </tr>\n    <tr>\n      <th>4</th>\n      <td>VCI</td>\n      <td>HOSE</td>\n      <td>1498.718375</td>\n      <td>768.91</td>\n      <td>937.5</td>\n      <td>160.0</td>\n      <td>5860.0</td>\n      <td>10.8</td>\n    </tr>\n  </tbody>\n</table>\n</div>"
                    },
                    "metadata": {}
                }
            ],
            "execution_count": 32
        },
        {
            "cell_type": "code",
            "source": [
                "ListStock_1.rename(columns = {'MaCoPhieu_x':'MaCoPhieu'}, inplace = True)\r\n",
                "ListStock_1"
            ],
            "metadata": {
                "azdata_cell_guid": "300cca5e-e0cf-4102-b9c8-9d399ef73df2"
            },
            "outputs": [
                {
                    "output_type": "execute_result",
                    "execution_count": 33,
                    "data": {
                        "text/plain": "  MaCoPhieu SanChungKhoan  LoiNhuanRong_2021  LoiNhuanRong_2020  KeHoach  \\\n0       HDG          HOSE        1090.016437             979.14   1254.0   \n1       REE          HOSE        1854.653140            1628.08   1768.9   \n2       DBC          HOSE         829.557934            1400.30    827.0   \n3       VHC          HOSE        1101.225562             719.31    700.0   \n4       VCI          HOSE        1498.718375             768.91    937.5   \n\n   PhanTram_KeHoach     EPS    PE  \n0              87.0  6836.0  10.6  \n1             105.0  6001.0  12.5  \n2             100.0  7503.0  10.4  \n3             157.0  6052.0  13.3  \n4             160.0  5860.0  10.8  ",
                        "text/html": "<div>\n<style scoped>\n    .dataframe tbody tr th:only-of-type {\n        vertical-align: middle;\n    }\n\n    .dataframe tbody tr th {\n        vertical-align: top;\n    }\n\n    .dataframe thead th {\n        text-align: right;\n    }\n</style>\n<table border=\"1\" class=\"dataframe\">\n  <thead>\n    <tr style=\"text-align: right;\">\n      <th></th>\n      <th>MaCoPhieu</th>\n      <th>SanChungKhoan</th>\n      <th>LoiNhuanRong_2021</th>\n      <th>LoiNhuanRong_2020</th>\n      <th>KeHoach</th>\n      <th>PhanTram_KeHoach</th>\n      <th>EPS</th>\n      <th>PE</th>\n    </tr>\n  </thead>\n  <tbody>\n    <tr>\n      <th>0</th>\n      <td>HDG</td>\n      <td>HOSE</td>\n      <td>1090.016437</td>\n      <td>979.14</td>\n      <td>1254.0</td>\n      <td>87.0</td>\n      <td>6836.0</td>\n      <td>10.6</td>\n    </tr>\n    <tr>\n      <th>1</th>\n      <td>REE</td>\n      <td>HOSE</td>\n      <td>1854.653140</td>\n      <td>1628.08</td>\n      <td>1768.9</td>\n      <td>105.0</td>\n      <td>6001.0</td>\n      <td>12.5</td>\n    </tr>\n    <tr>\n      <th>2</th>\n      <td>DBC</td>\n      <td>HOSE</td>\n      <td>829.557934</td>\n      <td>1400.30</td>\n      <td>827.0</td>\n      <td>100.0</td>\n      <td>7503.0</td>\n      <td>10.4</td>\n    </tr>\n    <tr>\n      <th>3</th>\n      <td>VHC</td>\n      <td>HOSE</td>\n      <td>1101.225562</td>\n      <td>719.31</td>\n      <td>700.0</td>\n      <td>157.0</td>\n      <td>6052.0</td>\n      <td>13.3</td>\n    </tr>\n    <tr>\n      <th>4</th>\n      <td>VCI</td>\n      <td>HOSE</td>\n      <td>1498.718375</td>\n      <td>768.91</td>\n      <td>937.5</td>\n      <td>160.0</td>\n      <td>5860.0</td>\n      <td>10.8</td>\n    </tr>\n  </tbody>\n</table>\n</div>"
                    },
                    "metadata": {}
                }
            ],
            "execution_count": 33
        },
        {
            "cell_type": "code",
            "source": [
                "ListStock_1.mean()"
            ],
            "metadata": {
                "azdata_cell_guid": "4d722b36-a5cb-4c31-818a-00b90bb0414b"
            },
            "outputs": [
                {
                    "output_type": "stream",
                    "name": "stderr",
                    "text": "<ipython-input-58-f7d981899902>:1: FutureWarning: Dropping of nuisance columns in DataFrame reductions (with 'numeric_only=None') is deprecated; in a future version this will raise TypeError.  Select only valid columns before calling the reduction.\n  ListStock_1.mean()\n"
                },
                {
                    "output_type": "execute_result",
                    "execution_count": 58,
                    "data": {
                        "text/plain": "LoiNhuanRong_2021    1274.83429\nLoiNhuanRong_2020    1099.14800\nKeHoach              1097.48000\nPhanTram_KeHoach      121.80000\nEPS                  6450.40000\nPE                     11.52000\ndtype: float64"
                    },
                    "metadata": {}
                }
            ],
            "execution_count": 58
        },
        {
            "cell_type": "markdown",
            "source": [
                "<a id = \"3\"></a>\r\n",
                "# <p style=\"background-color:navy;font-family:Tahoma;color:ivory;font-size:150%;text-align:center;border-radius:10px 0px;\">Cluster 2</p>"
            ],
            "metadata": {
                "azdata_cell_guid": "036e29c7-5095-425f-bddd-59c927f0b977"
            },
            "attachments": {}
        },
        {
            "cell_type": "code",
            "source": [
                "PE_cluster_2 =  pd.read_csv(r'C:\\Users\\Admin\\Desktop\\K_Means\\PE\\cluster_2.csv')\r\n",
                "PE_cluster_2"
            ],
            "metadata": {
                "azdata_cell_guid": "949ddb2f-fa05-4dd6-b6bd-00b4afb4873e",
                "tags": [
                    "hide_input"
                ]
            },
            "outputs": [
                {
                    "output_type": "execute_result",
                    "execution_count": 34,
                    "data": {
                        "text/plain": "   MaCoPhieu   PE      EPS\n0          4  5.8   8636.0\n1         12  7.2  10845.0",
                        "text/html": "<div>\n<style scoped>\n    .dataframe tbody tr th:only-of-type {\n        vertical-align: middle;\n    }\n\n    .dataframe tbody tr th {\n        vertical-align: top;\n    }\n\n    .dataframe thead th {\n        text-align: right;\n    }\n</style>\n<table border=\"1\" class=\"dataframe\">\n  <thead>\n    <tr style=\"text-align: right;\">\n      <th></th>\n      <th>MaCoPhieu</th>\n      <th>PE</th>\n      <th>EPS</th>\n    </tr>\n  </thead>\n  <tbody>\n    <tr>\n      <th>0</th>\n      <td>4</td>\n      <td>5.8</td>\n      <td>8636.0</td>\n    </tr>\n    <tr>\n      <th>1</th>\n      <td>12</td>\n      <td>7.2</td>\n      <td>10845.0</td>\n    </tr>\n  </tbody>\n</table>\n</div>"
                    },
                    "metadata": {}
                }
            ],
            "execution_count": 34
        },
        {
            "cell_type": "code",
            "source": [
                "ListStock_2 = pd.merge(ListStock, PE_cluster_2, \r\n",
                "                   on=['PE', 'EPS'], \r\n",
                "                   how='inner')\r\n",
                "ListStock_2"
            ],
            "metadata": {
                "azdata_cell_guid": "b92840c5-4d2d-493f-9347-1a8addefc694"
            },
            "outputs": [
                {
                    "output_type": "execute_result",
                    "execution_count": 35,
                    "data": {
                        "text/plain": "  MaCoPhieu_x SanChungKhoan  LoiNhuanRong_2021  LoiNhuanRong_2020  KeHoach  \\\n0         HPG          HOSE       34478.143197           13450.30  18000.0   \n1         VHM          HOSE       39016.681000           27351.28  35000.0   \n\n   PhanTram_KeHoach      EPS   PE  MaCoPhieu_y  \n0             192.0   8636.0  5.8            4  \n1             111.0  10845.0  7.2           12  ",
                        "text/html": "<div>\n<style scoped>\n    .dataframe tbody tr th:only-of-type {\n        vertical-align: middle;\n    }\n\n    .dataframe tbody tr th {\n        vertical-align: top;\n    }\n\n    .dataframe thead th {\n        text-align: right;\n    }\n</style>\n<table border=\"1\" class=\"dataframe\">\n  <thead>\n    <tr style=\"text-align: right;\">\n      <th></th>\n      <th>MaCoPhieu_x</th>\n      <th>SanChungKhoan</th>\n      <th>LoiNhuanRong_2021</th>\n      <th>LoiNhuanRong_2020</th>\n      <th>KeHoach</th>\n      <th>PhanTram_KeHoach</th>\n      <th>EPS</th>\n      <th>PE</th>\n      <th>MaCoPhieu_y</th>\n    </tr>\n  </thead>\n  <tbody>\n    <tr>\n      <th>0</th>\n      <td>HPG</td>\n      <td>HOSE</td>\n      <td>34478.143197</td>\n      <td>13450.30</td>\n      <td>18000.0</td>\n      <td>192.0</td>\n      <td>8636.0</td>\n      <td>5.8</td>\n      <td>4</td>\n    </tr>\n    <tr>\n      <th>1</th>\n      <td>VHM</td>\n      <td>HOSE</td>\n      <td>39016.681000</td>\n      <td>27351.28</td>\n      <td>35000.0</td>\n      <td>111.0</td>\n      <td>10845.0</td>\n      <td>7.2</td>\n      <td>12</td>\n    </tr>\n  </tbody>\n</table>\n</div>"
                    },
                    "metadata": {}
                }
            ],
            "execution_count": 35
        },
        {
            "cell_type": "code",
            "source": [
                "ListStock_2.rename(columns = {'MaCoPhieu_x':'MaCoPhieu'}, inplace = True)\r\n",
                "ListStock_2"
            ],
            "metadata": {
                "azdata_cell_guid": "e43bf09d-d98f-4a56-89a3-41b2cc645dea"
            },
            "outputs": [
                {
                    "output_type": "execute_result",
                    "execution_count": 36,
                    "data": {
                        "text/plain": "  MaCoPhieu SanChungKhoan  LoiNhuanRong_2021  LoiNhuanRong_2020  KeHoach  \\\n0       HPG          HOSE       34478.143197           13450.30  18000.0   \n1       VHM          HOSE       39016.681000           27351.28  35000.0   \n\n   PhanTram_KeHoach      EPS   PE  MaCoPhieu_y  \n0             192.0   8636.0  5.8            4  \n1             111.0  10845.0  7.2           12  ",
                        "text/html": "<div>\n<style scoped>\n    .dataframe tbody tr th:only-of-type {\n        vertical-align: middle;\n    }\n\n    .dataframe tbody tr th {\n        vertical-align: top;\n    }\n\n    .dataframe thead th {\n        text-align: right;\n    }\n</style>\n<table border=\"1\" class=\"dataframe\">\n  <thead>\n    <tr style=\"text-align: right;\">\n      <th></th>\n      <th>MaCoPhieu</th>\n      <th>SanChungKhoan</th>\n      <th>LoiNhuanRong_2021</th>\n      <th>LoiNhuanRong_2020</th>\n      <th>KeHoach</th>\n      <th>PhanTram_KeHoach</th>\n      <th>EPS</th>\n      <th>PE</th>\n      <th>MaCoPhieu_y</th>\n    </tr>\n  </thead>\n  <tbody>\n    <tr>\n      <th>0</th>\n      <td>HPG</td>\n      <td>HOSE</td>\n      <td>34478.143197</td>\n      <td>13450.30</td>\n      <td>18000.0</td>\n      <td>192.0</td>\n      <td>8636.0</td>\n      <td>5.8</td>\n      <td>4</td>\n    </tr>\n    <tr>\n      <th>1</th>\n      <td>VHM</td>\n      <td>HOSE</td>\n      <td>39016.681000</td>\n      <td>27351.28</td>\n      <td>35000.0</td>\n      <td>111.0</td>\n      <td>10845.0</td>\n      <td>7.2</td>\n      <td>12</td>\n    </tr>\n  </tbody>\n</table>\n</div>"
                    },
                    "metadata": {}
                }
            ],
            "execution_count": 36
        },
        {
            "cell_type": "code",
            "source": [
                " ListStock_2 =  ListStock_2.drop(columns=['MaCoPhieu_y'])\r\n",
                " ListStock_2"
            ],
            "metadata": {
                "azdata_cell_guid": "63beaeb4-d9c6-4a31-9701-87a6747c939c"
            },
            "outputs": [
                {
                    "output_type": "execute_result",
                    "execution_count": 37,
                    "data": {
                        "text/plain": "  MaCoPhieu SanChungKhoan  LoiNhuanRong_2021  LoiNhuanRong_2020  KeHoach  \\\n0       HPG          HOSE       34478.143197           13450.30  18000.0   \n1       VHM          HOSE       39016.681000           27351.28  35000.0   \n\n   PhanTram_KeHoach      EPS   PE  \n0             192.0   8636.0  5.8  \n1             111.0  10845.0  7.2  ",
                        "text/html": "<div>\n<style scoped>\n    .dataframe tbody tr th:only-of-type {\n        vertical-align: middle;\n    }\n\n    .dataframe tbody tr th {\n        vertical-align: top;\n    }\n\n    .dataframe thead th {\n        text-align: right;\n    }\n</style>\n<table border=\"1\" class=\"dataframe\">\n  <thead>\n    <tr style=\"text-align: right;\">\n      <th></th>\n      <th>MaCoPhieu</th>\n      <th>SanChungKhoan</th>\n      <th>LoiNhuanRong_2021</th>\n      <th>LoiNhuanRong_2020</th>\n      <th>KeHoach</th>\n      <th>PhanTram_KeHoach</th>\n      <th>EPS</th>\n      <th>PE</th>\n    </tr>\n  </thead>\n  <tbody>\n    <tr>\n      <th>0</th>\n      <td>HPG</td>\n      <td>HOSE</td>\n      <td>34478.143197</td>\n      <td>13450.30</td>\n      <td>18000.0</td>\n      <td>192.0</td>\n      <td>8636.0</td>\n      <td>5.8</td>\n    </tr>\n    <tr>\n      <th>1</th>\n      <td>VHM</td>\n      <td>HOSE</td>\n      <td>39016.681000</td>\n      <td>27351.28</td>\n      <td>35000.0</td>\n      <td>111.0</td>\n      <td>10845.0</td>\n      <td>7.2</td>\n    </tr>\n  </tbody>\n</table>\n</div>"
                    },
                    "metadata": {}
                }
            ],
            "execution_count": 37
        },
        {
            "cell_type": "code",
            "source": [
                "ListStock_2.mean()"
            ],
            "metadata": {
                "azdata_cell_guid": "1523737b-ac12-4d97-8377-2b3aab44de0d"
            },
            "outputs": [
                {
                    "output_type": "stream",
                    "name": "stderr",
                    "text": "<ipython-input-56-a76bd7c35619>:1: FutureWarning: Dropping of nuisance columns in DataFrame reductions (with 'numeric_only=None') is deprecated; in a future version this will raise TypeError.  Select only valid columns before calling the reduction.\n  ListStock_2.mean()\n"
                },
                {
                    "output_type": "execute_result",
                    "execution_count": 56,
                    "data": {
                        "text/plain": "LoiNhuanRong_2021    36747.412098\nLoiNhuanRong_2020    20400.790000\nKeHoach              26500.000000\nPhanTram_KeHoach       151.500000\nEPS                   9740.500000\nPE                       6.500000\ndtype: float64"
                    },
                    "metadata": {}
                }
            ],
            "execution_count": 56
        },
        {
            "cell_type": "markdown",
            "source": [
                "<a id = \"3\"></a>\r\n",
                "# <p style=\"background-color:navy;font-family:Tahoma;color:ivory;font-size:150%;text-align:center;border-radius:10px 0px;\">Cluster 3</p>"
            ],
            "metadata": {
                "azdata_cell_guid": "441da120-ccf9-4e98-a4a2-5e8fa8dfa8c7"
            },
            "attachments": {}
        },
        {
            "cell_type": "code",
            "source": [
                "PE_cluster_3 =  pd.read_csv(r'C:\\Users\\Admin\\Desktop\\K_Means\\PE\\cluster_3.csv')\r\n",
                "PE_cluster_3"
            ],
            "metadata": {
                "azdata_cell_guid": "a6deb221-f0f4-4c17-bffd-c7cb63cbd06e"
            },
            "outputs": [
                {
                    "output_type": "execute_result",
                    "execution_count": 42,
                    "data": {
                        "text/plain": "   MaCoPhieu    PE        EPS\n0          1  12.1  12149.375\n1          2   7.6   7964.000",
                        "text/html": "<div>\n<style scoped>\n    .dataframe tbody tr th:only-of-type {\n        vertical-align: middle;\n    }\n\n    .dataframe tbody tr th {\n        vertical-align: top;\n    }\n\n    .dataframe thead th {\n        text-align: right;\n    }\n</style>\n<table border=\"1\" class=\"dataframe\">\n  <thead>\n    <tr style=\"text-align: right;\">\n      <th></th>\n      <th>MaCoPhieu</th>\n      <th>PE</th>\n      <th>EPS</th>\n    </tr>\n  </thead>\n  <tbody>\n    <tr>\n      <th>0</th>\n      <td>1</td>\n      <td>12.1</td>\n      <td>12149.375</td>\n    </tr>\n    <tr>\n      <th>1</th>\n      <td>2</td>\n      <td>7.6</td>\n      <td>7964.000</td>\n    </tr>\n  </tbody>\n</table>\n</div>"
                    },
                    "metadata": {}
                }
            ],
            "execution_count": 42
        },
        {
            "cell_type": "code",
            "source": [
                "ListStock_3 = pd.merge(ListStock, PE_cluster_3, \r\n",
                "                   on=['PE'], \r\n",
                "                   how='inner')\r\n",
                "ListStock_3"
            ],
            "metadata": {
                "azdata_cell_guid": "cb751460-4961-47c9-b5d2-c37464be7c10"
            },
            "outputs": [
                {
                    "output_type": "execute_result",
                    "execution_count": 44,
                    "data": {
                        "text/plain": "  MaCoPhieu_x SanChungKhoan  LoiNhuanRong_2021  LoiNhuanRong_2020  KeHoach  \\\n0         DGC          HOSE        2388.150971             906.67   1100.0   \n1         DPM          HOSE        3116.702431             691.31    365.0   \n\n   PhanTram_KeHoach    EPS_x    PE  MaCoPhieu_y      EPS_y  \n0             217.0  14628.0  12.1            1  12149.375  \n1             854.0   7964.0   7.6            2   7964.000  ",
                        "text/html": "<div>\n<style scoped>\n    .dataframe tbody tr th:only-of-type {\n        vertical-align: middle;\n    }\n\n    .dataframe tbody tr th {\n        vertical-align: top;\n    }\n\n    .dataframe thead th {\n        text-align: right;\n    }\n</style>\n<table border=\"1\" class=\"dataframe\">\n  <thead>\n    <tr style=\"text-align: right;\">\n      <th></th>\n      <th>MaCoPhieu_x</th>\n      <th>SanChungKhoan</th>\n      <th>LoiNhuanRong_2021</th>\n      <th>LoiNhuanRong_2020</th>\n      <th>KeHoach</th>\n      <th>PhanTram_KeHoach</th>\n      <th>EPS_x</th>\n      <th>PE</th>\n      <th>MaCoPhieu_y</th>\n      <th>EPS_y</th>\n    </tr>\n  </thead>\n  <tbody>\n    <tr>\n      <th>0</th>\n      <td>DGC</td>\n      <td>HOSE</td>\n      <td>2388.150971</td>\n      <td>906.67</td>\n      <td>1100.0</td>\n      <td>217.0</td>\n      <td>14628.0</td>\n      <td>12.1</td>\n      <td>1</td>\n      <td>12149.375</td>\n    </tr>\n    <tr>\n      <th>1</th>\n      <td>DPM</td>\n      <td>HOSE</td>\n      <td>3116.702431</td>\n      <td>691.31</td>\n      <td>365.0</td>\n      <td>854.0</td>\n      <td>7964.0</td>\n      <td>7.6</td>\n      <td>2</td>\n      <td>7964.000</td>\n    </tr>\n  </tbody>\n</table>\n</div>"
                    },
                    "metadata": {}
                }
            ],
            "execution_count": 44
        },
        {
            "cell_type": "code",
            "source": [
                "ListStock_3.rename(columns = {'MaCoPhieu_x':'MaCoPhieu', 'EPS_x':'EPS'}, inplace = True)\r\n",
                "ListStock_3"
            ],
            "metadata": {
                "azdata_cell_guid": "651f9988-8ce5-4070-8322-85c05dab2e0d"
            },
            "outputs": [
                {
                    "output_type": "execute_result",
                    "execution_count": 46,
                    "data": {
                        "text/plain": "  MaCoPhieu SanChungKhoan  LoiNhuanRong_2021  LoiNhuanRong_2020  KeHoach  \\\n0       DGC          HOSE        2388.150971             906.67   1100.0   \n1       DPM          HOSE        3116.702431             691.31    365.0   \n\n   PhanTram_KeHoach      EPS    PE  MaCoPhieu_y      EPS_y  \n0             217.0  14628.0  12.1            1  12149.375  \n1             854.0   7964.0   7.6            2   7964.000  ",
                        "text/html": "<div>\n<style scoped>\n    .dataframe tbody tr th:only-of-type {\n        vertical-align: middle;\n    }\n\n    .dataframe tbody tr th {\n        vertical-align: top;\n    }\n\n    .dataframe thead th {\n        text-align: right;\n    }\n</style>\n<table border=\"1\" class=\"dataframe\">\n  <thead>\n    <tr style=\"text-align: right;\">\n      <th></th>\n      <th>MaCoPhieu</th>\n      <th>SanChungKhoan</th>\n      <th>LoiNhuanRong_2021</th>\n      <th>LoiNhuanRong_2020</th>\n      <th>KeHoach</th>\n      <th>PhanTram_KeHoach</th>\n      <th>EPS</th>\n      <th>PE</th>\n      <th>MaCoPhieu_y</th>\n      <th>EPS_y</th>\n    </tr>\n  </thead>\n  <tbody>\n    <tr>\n      <th>0</th>\n      <td>DGC</td>\n      <td>HOSE</td>\n      <td>2388.150971</td>\n      <td>906.67</td>\n      <td>1100.0</td>\n      <td>217.0</td>\n      <td>14628.0</td>\n      <td>12.1</td>\n      <td>1</td>\n      <td>12149.375</td>\n    </tr>\n    <tr>\n      <th>1</th>\n      <td>DPM</td>\n      <td>HOSE</td>\n      <td>3116.702431</td>\n      <td>691.31</td>\n      <td>365.0</td>\n      <td>854.0</td>\n      <td>7964.0</td>\n      <td>7.6</td>\n      <td>2</td>\n      <td>7964.000</td>\n    </tr>\n  </tbody>\n</table>\n</div>"
                    },
                    "metadata": {}
                }
            ],
            "execution_count": 46
        },
        {
            "cell_type": "code",
            "source": [
                " ListStock_3 =  ListStock_3.drop(columns=['MaCoPhieu_y', 'EPS_y'])\r\n",
                " ListStock_3"
            ],
            "metadata": {
                "azdata_cell_guid": "05a35866-8d49-425b-a582-d5f2fa5fb83d",
                "tags": []
            },
            "outputs": [
                {
                    "output_type": "execute_result",
                    "execution_count": 47,
                    "data": {
                        "text/plain": "  MaCoPhieu SanChungKhoan  LoiNhuanRong_2021  LoiNhuanRong_2020  KeHoach  \\\n0       DGC          HOSE        2388.150971             906.67   1100.0   \n1       DPM          HOSE        3116.702431             691.31    365.0   \n\n   PhanTram_KeHoach      EPS    PE  \n0             217.0  14628.0  12.1  \n1             854.0   7964.0   7.6  ",
                        "text/html": "<div>\n<style scoped>\n    .dataframe tbody tr th:only-of-type {\n        vertical-align: middle;\n    }\n\n    .dataframe tbody tr th {\n        vertical-align: top;\n    }\n\n    .dataframe thead th {\n        text-align: right;\n    }\n</style>\n<table border=\"1\" class=\"dataframe\">\n  <thead>\n    <tr style=\"text-align: right;\">\n      <th></th>\n      <th>MaCoPhieu</th>\n      <th>SanChungKhoan</th>\n      <th>LoiNhuanRong_2021</th>\n      <th>LoiNhuanRong_2020</th>\n      <th>KeHoach</th>\n      <th>PhanTram_KeHoach</th>\n      <th>EPS</th>\n      <th>PE</th>\n    </tr>\n  </thead>\n  <tbody>\n    <tr>\n      <th>0</th>\n      <td>DGC</td>\n      <td>HOSE</td>\n      <td>2388.150971</td>\n      <td>906.67</td>\n      <td>1100.0</td>\n      <td>217.0</td>\n      <td>14628.0</td>\n      <td>12.1</td>\n    </tr>\n    <tr>\n      <th>1</th>\n      <td>DPM</td>\n      <td>HOSE</td>\n      <td>3116.702431</td>\n      <td>691.31</td>\n      <td>365.0</td>\n      <td>854.0</td>\n      <td>7964.0</td>\n      <td>7.6</td>\n    </tr>\n  </tbody>\n</table>\n</div>"
                    },
                    "metadata": {}
                }
            ],
            "execution_count": 47
        },
        {
            "cell_type": "code",
            "source": [
                " ListStock_3.mean()"
            ],
            "metadata": {
                "azdata_cell_guid": "7662a56c-13d7-4c07-9a69-a289259f688c"
            },
            "outputs": [
                {
                    "output_type": "stream",
                    "name": "stderr",
                    "text": "<ipython-input-55-5d21ab8737ee>:1: FutureWarning: Dropping of nuisance columns in DataFrame reductions (with 'numeric_only=None') is deprecated; in a future version this will raise TypeError.  Select only valid columns before calling the reduction.\n  ListStock_3.mean()\n"
                },
                {
                    "output_type": "execute_result",
                    "execution_count": 55,
                    "data": {
                        "text/plain": "LoiNhuanRong_2021     2752.426701\nLoiNhuanRong_2020      798.990000\nKeHoach                732.500000\nPhanTram_KeHoach       535.500000\nEPS                  11296.000000\nPE                       9.850000\ndtype: float64"
                    },
                    "metadata": {}
                }
            ],
            "execution_count": 55
        },
        {
            "cell_type": "markdown",
            "source": [
                "**Cluster 4**"
            ],
            "metadata": {
                "azdata_cell_guid": "db2db837-4f31-4b68-af1a-9d2654943573"
            },
            "attachments": {}
        },
        {
            "cell_type": "code",
            "source": [
                "PE_cluster_4 =  pd.read_csv(r'C:\\Users\\Admin\\Desktop\\K_Means\\PE\\cluster_4.csv')\r\n",
                "PE_cluster_4"
            ],
            "metadata": {
                "azdata_cell_guid": "a9f18833-0ead-4ad5-acb4-352ee27be148"
            },
            "outputs": [
                {
                    "output_type": "execute_result",
                    "execution_count": 48,
                    "data": {
                        "text/plain": "   MaCoPhieu    PE     EPS\n0          8  14.4  5907.0\n1          7   9.7  5144.0",
                        "text/html": "<div>\n<style scoped>\n    .dataframe tbody tr th:only-of-type {\n        vertical-align: middle;\n    }\n\n    .dataframe tbody tr th {\n        vertical-align: top;\n    }\n\n    .dataframe thead th {\n        text-align: right;\n    }\n</style>\n<table border=\"1\" class=\"dataframe\">\n  <thead>\n    <tr style=\"text-align: right;\">\n      <th></th>\n      <th>MaCoPhieu</th>\n      <th>PE</th>\n      <th>EPS</th>\n    </tr>\n  </thead>\n  <tbody>\n    <tr>\n      <th>0</th>\n      <td>8</td>\n      <td>14.4</td>\n      <td>5907.0</td>\n    </tr>\n    <tr>\n      <th>1</th>\n      <td>7</td>\n      <td>9.7</td>\n      <td>5144.0</td>\n    </tr>\n  </tbody>\n</table>\n</div>"
                    },
                    "metadata": {}
                }
            ],
            "execution_count": 48
        },
        {
            "cell_type": "code",
            "source": [
                "ListStock_4 = pd.merge(ListStock, PE_cluster_4, \r\n",
                "                   on=['PE'], \r\n",
                "                   how='inner')\r\n",
                "ListStock_4"
            ],
            "metadata": {
                "azdata_cell_guid": "b4fbb498-58b6-4d61-abed-2d65e82fa059"
            },
            "outputs": [
                {
                    "output_type": "execute_result",
                    "execution_count": 49,
                    "data": {
                        "text/plain": "  MaCoPhieu_x SanChungKhoan  LoiNhuanRong_2021  LoiNhuanRong_2020  KeHoach  \\\n0         VCB          HOSE          21908.052           18451.31  37500.0   \n1         TCB          HOSE          18037.685           12324.99  29700.0   \n\n   PhanTram_KeHoach   EPS_x    PE  MaCoPhieu_y   EPS_y  \n0              58.0  5907.0  14.4            8  5907.0  \n1              61.0  5144.0   9.7            7  5144.0  ",
                        "text/html": "<div>\n<style scoped>\n    .dataframe tbody tr th:only-of-type {\n        vertical-align: middle;\n    }\n\n    .dataframe tbody tr th {\n        vertical-align: top;\n    }\n\n    .dataframe thead th {\n        text-align: right;\n    }\n</style>\n<table border=\"1\" class=\"dataframe\">\n  <thead>\n    <tr style=\"text-align: right;\">\n      <th></th>\n      <th>MaCoPhieu_x</th>\n      <th>SanChungKhoan</th>\n      <th>LoiNhuanRong_2021</th>\n      <th>LoiNhuanRong_2020</th>\n      <th>KeHoach</th>\n      <th>PhanTram_KeHoach</th>\n      <th>EPS_x</th>\n      <th>PE</th>\n      <th>MaCoPhieu_y</th>\n      <th>EPS_y</th>\n    </tr>\n  </thead>\n  <tbody>\n    <tr>\n      <th>0</th>\n      <td>VCB</td>\n      <td>HOSE</td>\n      <td>21908.052</td>\n      <td>18451.31</td>\n      <td>37500.0</td>\n      <td>58.0</td>\n      <td>5907.0</td>\n      <td>14.4</td>\n      <td>8</td>\n      <td>5907.0</td>\n    </tr>\n    <tr>\n      <th>1</th>\n      <td>TCB</td>\n      <td>HOSE</td>\n      <td>18037.685</td>\n      <td>12324.99</td>\n      <td>29700.0</td>\n      <td>61.0</td>\n      <td>5144.0</td>\n      <td>9.7</td>\n      <td>7</td>\n      <td>5144.0</td>\n    </tr>\n  </tbody>\n</table>\n</div>"
                    },
                    "metadata": {}
                }
            ],
            "execution_count": 49
        },
        {
            "cell_type": "code",
            "source": [
                "ListStock_4.rename(columns = {'MaCoPhieu_x':'MaCoPhieu', 'EPS_x':'EPS'}, inplace = True)\r\n",
                "ListStock_4"
            ],
            "metadata": {
                "azdata_cell_guid": "8a2c6f3d-6f99-43a0-8c24-f0dd17c4b5f8"
            },
            "outputs": [
                {
                    "output_type": "execute_result",
                    "execution_count": 51,
                    "data": {
                        "text/plain": "  MaCoPhieu SanChungKhoan  LoiNhuanRong_2021  LoiNhuanRong_2020  KeHoach  \\\n0       VCB          HOSE          21908.052           18451.31  37500.0   \n1       TCB          HOSE          18037.685           12324.99  29700.0   \n\n   PhanTram_KeHoach     EPS    PE  MaCoPhieu_y   EPS_y  \n0              58.0  5907.0  14.4            8  5907.0  \n1              61.0  5144.0   9.7            7  5144.0  ",
                        "text/html": "<div>\n<style scoped>\n    .dataframe tbody tr th:only-of-type {\n        vertical-align: middle;\n    }\n\n    .dataframe tbody tr th {\n        vertical-align: top;\n    }\n\n    .dataframe thead th {\n        text-align: right;\n    }\n</style>\n<table border=\"1\" class=\"dataframe\">\n  <thead>\n    <tr style=\"text-align: right;\">\n      <th></th>\n      <th>MaCoPhieu</th>\n      <th>SanChungKhoan</th>\n      <th>LoiNhuanRong_2021</th>\n      <th>LoiNhuanRong_2020</th>\n      <th>KeHoach</th>\n      <th>PhanTram_KeHoach</th>\n      <th>EPS</th>\n      <th>PE</th>\n      <th>MaCoPhieu_y</th>\n      <th>EPS_y</th>\n    </tr>\n  </thead>\n  <tbody>\n    <tr>\n      <th>0</th>\n      <td>VCB</td>\n      <td>HOSE</td>\n      <td>21908.052</td>\n      <td>18451.31</td>\n      <td>37500.0</td>\n      <td>58.0</td>\n      <td>5907.0</td>\n      <td>14.4</td>\n      <td>8</td>\n      <td>5907.0</td>\n    </tr>\n    <tr>\n      <th>1</th>\n      <td>TCB</td>\n      <td>HOSE</td>\n      <td>18037.685</td>\n      <td>12324.99</td>\n      <td>29700.0</td>\n      <td>61.0</td>\n      <td>5144.0</td>\n      <td>9.7</td>\n      <td>7</td>\n      <td>5144.0</td>\n    </tr>\n  </tbody>\n</table>\n</div>"
                    },
                    "metadata": {}
                }
            ],
            "execution_count": 51
        },
        {
            "cell_type": "code",
            "source": [
                " ListStock_4 =  ListStock_4.drop(columns=['MaCoPhieu_y', 'EPS_y'])\r\n",
                " ListStock_4"
            ],
            "metadata": {
                "azdata_cell_guid": "702e6a5a-a0d3-4a58-b4f2-5c66a1a8a63b",
                "tags": [
                    "hide_input"
                ]
            },
            "outputs": [
                {
                    "output_type": "execute_result",
                    "execution_count": 52,
                    "data": {
                        "text/plain": "  MaCoPhieu SanChungKhoan  LoiNhuanRong_2021  LoiNhuanRong_2020  KeHoach  \\\n0       VCB          HOSE          21908.052           18451.31  37500.0   \n1       TCB          HOSE          18037.685           12324.99  29700.0   \n\n   PhanTram_KeHoach     EPS    PE  \n0              58.0  5907.0  14.4  \n1              61.0  5144.0   9.7  ",
                        "text/html": "<div>\n<style scoped>\n    .dataframe tbody tr th:only-of-type {\n        vertical-align: middle;\n    }\n\n    .dataframe tbody tr th {\n        vertical-align: top;\n    }\n\n    .dataframe thead th {\n        text-align: right;\n    }\n</style>\n<table border=\"1\" class=\"dataframe\">\n  <thead>\n    <tr style=\"text-align: right;\">\n      <th></th>\n      <th>MaCoPhieu</th>\n      <th>SanChungKhoan</th>\n      <th>LoiNhuanRong_2021</th>\n      <th>LoiNhuanRong_2020</th>\n      <th>KeHoach</th>\n      <th>PhanTram_KeHoach</th>\n      <th>EPS</th>\n      <th>PE</th>\n    </tr>\n  </thead>\n  <tbody>\n    <tr>\n      <th>0</th>\n      <td>VCB</td>\n      <td>HOSE</td>\n      <td>21908.052</td>\n      <td>18451.31</td>\n      <td>37500.0</td>\n      <td>58.0</td>\n      <td>5907.0</td>\n      <td>14.4</td>\n    </tr>\n    <tr>\n      <th>1</th>\n      <td>TCB</td>\n      <td>HOSE</td>\n      <td>18037.685</td>\n      <td>12324.99</td>\n      <td>29700.0</td>\n      <td>61.0</td>\n      <td>5144.0</td>\n      <td>9.7</td>\n    </tr>\n  </tbody>\n</table>\n</div>"
                    },
                    "metadata": {}
                }
            ],
            "execution_count": 52
        },
        {
            "cell_type": "code",
            "source": [
                " ListStock_4.mean()"
            ],
            "metadata": {
                "azdata_cell_guid": "a92b92b9-5a41-4f2a-98e0-21122b8b8bc1"
            },
            "outputs": [
                {
                    "output_type": "stream",
                    "name": "stderr",
                    "text": "<ipython-input-54-6390f266e983>:1: FutureWarning: Dropping of nuisance columns in DataFrame reductions (with 'numeric_only=None') is deprecated; in a future version this will raise TypeError.  Select only valid columns before calling the reduction.\n  ListStock_4.mean()\n"
                },
                {
                    "output_type": "execute_result",
                    "execution_count": 54,
                    "data": {
                        "text/plain": "LoiNhuanRong_2021    19972.8685\nLoiNhuanRong_2020    15388.1500\nKeHoach              33600.0000\nPhanTram_KeHoach        59.5000\nEPS                   5525.5000\nPE                      12.0500\ndtype: float64"
                    },
                    "metadata": {}
                }
            ],
            "execution_count": 54
        }
    ]
}